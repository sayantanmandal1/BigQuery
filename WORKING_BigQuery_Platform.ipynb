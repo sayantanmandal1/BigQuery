{
    "cells": [
        {
            "cell_type": "markdown",
            "metadata": {},
            "source": [
                "# 🏢 WORKING BigQuery Enterprise AI Platform\n",
                "## 100% GUARANTEED TO WORK - NO SQL ERRORS\n",
                "\n",
                "### 🚀 This notebook is completely rewritten to eliminate all SQL aggregation errors"
            ]
        },
        {
            "cell_type": "code",
            "execution_count": 1,
            "metadata": {},
            "outputs": [
                {
                    "name": "stdout",
                    "output_type": "stream",
                    "text": [
                        "🔧 Loading Google Cloud Credentials...\n",
                        "✅ BigQuery Client Ready!\n",
                        "🏢 Project: analog-daylight-469011-e9\n"
                    ]
                }
            ],
            "source": [
                "# 🔧 BigQuery Setup - WORKING VERSION\n",
                "import pandas as pd\n",
                "import numpy as np\n",
                "import plotly.express as px\n",
                "import plotly.graph_objects as go\n",
                "from plotly.subplots import make_subplots\n",
                "import warnings\n",
                "warnings.filterwarnings('ignore')\n",
                "\n",
                "from google.cloud import bigquery\n",
                "from google.oauth2 import service_account\n",
                "\n",
                "# Your credentials\n",
                "credentials_path = r\"C:\\Users\\msaya\\Downloads\\analog-daylight-469011-e9-b89b0752ca82.json\"\n",
                "\n",
                "print(\"🔧 Loading Google Cloud Credentials...\")\n",
                "credentials = service_account.Credentials.from_service_account_file(credentials_path)\n",
                "client = bigquery.Client(credentials=credentials, project=credentials.project_id)\n",
                "\n",
                "print(\"✅ BigQuery Client Ready!\")\n",
                "print(f\"🏢 Project: {client.project}\")"
            ]
        },
        {
            "cell_type": "code",
            "execution_count": 2,
            "metadata": {},
            "outputs": [
                {
                    "name": "stdout",
                    "output_type": "stream",
                    "text": [
                        "🚀 Starting GUARANTEED WORKING Analysis...\n",
                        "🔍 Running WORKING BigQuery Content Analysis...\n",
                        "⚡ Executing WORKING query...\n",
                        "✅ SUCCESS! Analyzed 7 categories\n",
                        "\n",
                        "📊 WORKING BIGQUERY RESULTS:\n",
                        "==================================================\n",
                        "🎯 PROGRAMMING: Score 26.4 | 573 posts\n",
                        "🎯 BIG_TECH: Score 24.5 | 640 posts\n",
                        "🎯 SECURITY: Score 20.3 | 261 posts\n",
                        "🎯 GENERAL: Score 20.0 | 18756 posts\n",
                        "🎯 AI_TECH: Score 14.0 | 3199 posts\n",
                        "🎯 STARTUP: Score 11.0 | 155 posts\n",
                        "🎯 CRYPTO: Score 4.9 | 123 posts\n",
                        "\n",
                        "✅ TOTAL SUCCESS - NO ERRORS!\n",
                        "📈 Total Posts: 23,707\n"
                    ]
                },
                {
                    "data": {
                        "text/html": [
                            "<div>\n",
                            "<style scoped>\n",
                            "    .dataframe tbody tr th:only-of-type {\n",
                            "        vertical-align: middle;\n",
                            "    }\n",
                            "\n",
                            "    .dataframe tbody tr th {\n",
                            "        vertical-align: top;\n",
                            "    }\n",
                            "\n",
                            "    .dataframe thead th {\n",
                            "        text-align: right;\n",
                            "    }\n",
                            "</style>\n",
                            "<table border=\"1\" class=\"dataframe\">\n",
                            "  <thead>\n",
                            "    <tr style=\"text-align: right;\">\n",
                            "      <th></th>\n",
                            "      <th>category</th>\n",
                            "      <th>total_posts</th>\n",
                            "      <th>average_score</th>\n",
                            "      <th>average_comments</th>\n",
                            "    </tr>\n",
                            "  </thead>\n",
                            "  <tbody>\n",
                            "    <tr>\n",
                            "      <th>0</th>\n",
                            "      <td>PROGRAMMING</td>\n",
                            "      <td>573</td>\n",
                            "      <td>26.361257</td>\n",
                            "      <td>15.275742</td>\n",
                            "    </tr>\n",
                            "    <tr>\n",
                            "      <th>1</th>\n",
                            "      <td>BIG_TECH</td>\n",
                            "      <td>640</td>\n",
                            "      <td>24.532812</td>\n",
                            "      <td>14.007812</td>\n",
                            "    </tr>\n",
                            "    <tr>\n",
                            "      <th>2</th>\n",
                            "      <td>SECURITY</td>\n",
                            "      <td>261</td>\n",
                            "      <td>20.318008</td>\n",
                            "      <td>9.233716</td>\n",
                            "    </tr>\n",
                            "    <tr>\n",
                            "      <th>3</th>\n",
                            "      <td>GENERAL</td>\n",
                            "      <td>18756</td>\n",
                            "      <td>19.980966</td>\n",
                            "      <td>11.203562</td>\n",
                            "    </tr>\n",
                            "    <tr>\n",
                            "      <th>4</th>\n",
                            "      <td>AI_TECH</td>\n",
                            "      <td>3199</td>\n",
                            "      <td>14.031572</td>\n",
                            "      <td>8.701782</td>\n",
                            "    </tr>\n",
                            "    <tr>\n",
                            "      <th>5</th>\n",
                            "      <td>STARTUP</td>\n",
                            "      <td>155</td>\n",
                            "      <td>11.032258</td>\n",
                            "      <td>3.896774</td>\n",
                            "    </tr>\n",
                            "    <tr>\n",
                            "      <th>6</th>\n",
                            "      <td>CRYPTO</td>\n",
                            "      <td>123</td>\n",
                            "      <td>4.926829</td>\n",
                            "      <td>2.650407</td>\n",
                            "    </tr>\n",
                            "  </tbody>\n",
                            "</table>\n",
                            "</div>"
                        ],
                        "text/plain": [
                            "      category  total_posts  average_score  average_comments\n",
                            "0  PROGRAMMING          573      26.361257         15.275742\n",
                            "1     BIG_TECH          640      24.532812         14.007812\n",
                            "2     SECURITY          261      20.318008          9.233716\n",
                            "3      GENERAL        18756      19.980966         11.203562\n",
                            "4      AI_TECH         3199      14.031572          8.701782\n",
                            "5      STARTUP          155      11.032258          3.896774\n",
                            "6       CRYPTO          123       4.926829          2.650407"
                        ]
                    },
                    "execution_count": 2,
                    "metadata": {},
                    "output_type": "execute_result"
                }
            ],
            "source": [
                "# 📊 WORKING Content Analysis - ZERO SQL ERRORS GUARANTEED\n",
                "def get_working_content_analysis():\n",
                "    \"\"\"100% Working BigQuery Analysis - No Aggregation Errors\"\"\"\n",
                "    \n",
                "    print(\"🔍 Running WORKING BigQuery Content Analysis...\")\n",
                "    \n",
                "    # BULLETPROOF SQL - No complex aggregations\n",
                "    query = \"\"\"\n",
                "    SELECT \n",
                "      CASE \n",
                "        WHEN REGEXP_CONTAINS(LOWER(title), r'\\\\b(ai|artificial intelligence|machine learning|ml|gpt)\\\\b') THEN 'AI_TECH'\n",
                "        WHEN REGEXP_CONTAINS(LOWER(title), r'\\\\b(startup|funding|investment|vc)\\\\b') THEN 'STARTUP'\n",
                "        WHEN REGEXP_CONTAINS(LOWER(title), r'\\\\b(security|privacy|hack|breach)\\\\b') THEN 'SECURITY'\n",
                "        WHEN REGEXP_CONTAINS(LOWER(title), r'\\\\b(crypto|bitcoin|blockchain)\\\\b') THEN 'CRYPTO'\n",
                "        WHEN REGEXP_CONTAINS(LOWER(title), r'\\\\b(google|apple|microsoft|amazon)\\\\b') THEN 'BIG_TECH'\n",
                "        WHEN REGEXP_CONTAINS(LOWER(title), r'\\\\b(programming|code|developer)\\\\b') THEN 'PROGRAMMING'\n",
                "        ELSE 'GENERAL'\n",
                "      END as category,\n",
                "      COUNT(*) as total_posts,\n",
                "      AVG(score) as average_score,\n",
                "      AVG(descendants) as average_comments\n",
                "    FROM `bigquery-public-data.hacker_news.full`\n",
                "    WHERE timestamp >= TIMESTAMP_SUB(CURRENT_TIMESTAMP(), INTERVAL 30 DAY)\n",
                "      AND score IS NOT NULL\n",
                "      AND score > 0\n",
                "      AND type = 'story'\n",
                "      AND title IS NOT NULL\n",
                "    GROUP BY category\n",
                "    ORDER BY average_score DESC\n",
                "    \"\"\"\n",
                "    \n",
                "    print(\"⚡ Executing WORKING query...\")\n",
                "    result = client.query(query).to_dataframe()\n",
                "    print(f\"✅ SUCCESS! Analyzed {len(result)} categories\")\n",
                "    \n",
                "    return result\n",
                "\n",
                "# Execute the WORKING analysis\n",
                "print(\"🚀 Starting GUARANTEED WORKING Analysis...\")\n",
                "working_data = get_working_content_analysis()\n",
                "\n",
                "print(\"\\n📊 WORKING BIGQUERY RESULTS:\")\n",
                "print(\"=\" * 50)\n",
                "\n",
                "for idx, row in working_data.iterrows():\n",
                "    print(f\"🎯 {row['category']}: Score {row['average_score']:.1f} | {row['total_posts']} posts\")\n",
                "\n",
                "print(f\"\\n✅ TOTAL SUCCESS - NO ERRORS!\")\n",
                "print(f\"📈 Total Posts: {working_data['total_posts'].sum():,}\")\n",
                "\n",
                "working_data"
            ]
        },
        {
            "cell_type": "code",
            "execution_count": 3,
            "metadata": {},
            "outputs": [
                {
                    "data": {
                        "application/vnd.plotly.v1+json": {
                            "config": {
                                "plotlyServerURL": "https://plot.ly"
                            },
                            "data": [
                                {
                                    "marker": {
                                        "color": "#1f77b4"
                                    },
                                    "name": "Avg Score",
                                    "type": "bar",
                                    "x": [
                                        "PROGRAMMING",
                                        "BIG_TECH",
                                        "SECURITY",
                                        "GENERAL",
                                        "AI_TECH",
                                        "STARTUP",
                                        "CRYPTO"
                                    ],
                                    "xaxis": "x",
                                    "y": {
                                        "bdata": "zxoUT3tcOkBmZmZmZog4QDrBP/NoUTRAkbD+lyD7M0BS/NFAKhAsQBJCCCGEECZAtStRuxK1E0A=",
                                        "dtype": "f8"
                                    },
                                    "yaxis": "y"
                                },
                                {
                                    "marker": {
                                        "color": "#ff7f0e"
                                    },
                                    "name": "Total Posts",
                                    "type": "bar",
                                    "x": [
                                        "PROGRAMMING",
                                        "BIG_TECH",
                                        "SECURITY",
                                        "GENERAL",
                                        "AI_TECH",
                                        "STARTUP",
                                        "CRYPTO"
                                    ],
                                    "xaxis": "x2",
                                    "y": {
                                        "bdata": "PQKAAgUBREl/DJsAewA=",
                                        "dtype": "i2"
                                    },
                                    "yaxis": "y2"
                                },
                                {
                                    "marker": {
                                        "color": "#2ca02c",
                                        "size": 12
                                    },
                                    "mode": "markers+text",
                                    "name": "Comments vs Posts",
                                    "text": [
                                        "PROGRAMMING",
                                        "BIG_TECH",
                                        "SECURITY",
                                        "GENERAL",
                                        "AI_TECH",
                                        "STARTUP",
                                        "CRYPTO"
                                    ],
                                    "type": "scatter",
                                    "x": {
                                        "bdata": "PQKAAgUBREl/DJsAewA=",
                                        "dtype": "i2"
                                    },
                                    "xaxis": "x3",
                                    "y": {
                                        "bdata": "GLx3BC6NLkAAAAAAAAQsQEYlkq+pdyJAYDBqNzloJkCrZOrxT2chQC5/yfKXLA9ANIVAUwg0BUA=",
                                        "dtype": "f8"
                                    },
                                    "yaxis": "y3"
                                },
                                {
                                    "marker": {
                                        "color": "#d62728"
                                    },
                                    "name": "Performance Index",
                                    "type": "bar",
                                    "x": [
                                        "PROGRAMMING",
                                        "BIG_TECH",
                                        "SECURITY",
                                        "GENERAL",
                                        "AI_TECH",
                                        "STARTUP",
                                        "CRYPTO"
                                    ],
                                    "xaxis": "x4",
                                    "y": {
                                        "bdata": "mpmZmZnhYkC4HoXrUaBjQKRwPQrXg0pA9yhcj0JHrUBSuB6F6w18QJuZmZmZGTFAPQrXo3A9GEA=",
                                        "dtype": "f8"
                                    },
                                    "yaxis": "y4"
                                }
                            ],
                            "layout": {
                                "annotations": [
                                    {
                                        "font": {
                                            "size": 16
                                        },
                                        "showarrow": false,
                                        "text": "📈 Average Scores by Category",
                                        "x": 0.225,
                                        "xanchor": "center",
                                        "xref": "paper",
                                        "y": 1,
                                        "yanchor": "bottom",
                                        "yref": "paper"
                                    },
                                    {
                                        "font": {
                                            "size": 16
                                        },
                                        "showarrow": false,
                                        "text": "📊 Post Counts",
                                        "x": 0.775,
                                        "xanchor": "center",
                                        "xref": "paper",
                                        "y": 1,
                                        "yanchor": "bottom",
                                        "yref": "paper"
                                    },
                                    {
                                        "font": {
                                            "size": 16
                                        },
                                        "showarrow": false,
                                        "text": "💬 Comments vs Posts",
                                        "x": 0.225,
                                        "xanchor": "center",
                                        "xref": "paper",
                                        "y": 0.375,
                                        "yanchor": "bottom",
                                        "yref": "paper"
                                    },
                                    {
                                        "font": {
                                            "size": 16
                                        },
                                        "showarrow": false,
                                        "text": "🎯 Performance Overview",
                                        "x": 0.775,
                                        "xanchor": "center",
                                        "xref": "paper",
                                        "y": 0.375,
                                        "yanchor": "bottom",
                                        "yref": "paper"
                                    }
                                ],
                                "height": 800,
                                "showlegend": false,
                                "template": {
                                    "data": {
                                        "bar": [
                                            {
                                                "error_x": {
                                                    "color": "#2a3f5f"
                                                },
                                                "error_y": {
                                                    "color": "#2a3f5f"
                                                },
                                                "marker": {
                                                    "line": {
                                                        "color": "#E5ECF6",
                                                        "width": 0.5
                                                    },
                                                    "pattern": {
                                                        "fillmode": "overlay",
                                                        "size": 10,
                                                        "solidity": 0.2
                                                    }
                                                },
                                                "type": "bar"
                                            }
                                        ],
                                        "barpolar": [
                                            {
                                                "marker": {
                                                    "line": {
                                                        "color": "#E5ECF6",
                                                        "width": 0.5
                                                    },
                                                    "pattern": {
                                                        "fillmode": "overlay",
                                                        "size": 10,
                                                        "solidity": 0.2
                                                    }
                                                },
                                                "type": "barpolar"
                                            }
                                        ],
                                        "carpet": [
                                            {
                                                "aaxis": {
                                                    "endlinecolor": "#2a3f5f",
                                                    "gridcolor": "white",
                                                    "linecolor": "white",
                                                    "minorgridcolor": "white",
                                                    "startlinecolor": "#2a3f5f"
                                                },
                                                "baxis": {
                                                    "endlinecolor": "#2a3f5f",
                                                    "gridcolor": "white",
                                                    "linecolor": "white",
                                                    "minorgridcolor": "white",
                                                    "startlinecolor": "#2a3f5f"
                                                },
                                                "type": "carpet"
                                            }
                                        ],
                                        "choropleth": [
                                            {
                                                "colorbar": {
                                                    "outlinewidth": 0,
                                                    "ticks": ""
                                                },
                                                "type": "choropleth"
                                            }
                                        ],
                                        "contour": [
                                            {
                                                "colorbar": {
                                                    "outlinewidth": 0,
                                                    "ticks": ""
                                                },
                                                "colorscale": [
                                                    [
                                                        0,
                                                        "#0d0887"
                                                    ],
                                                    [
                                                        0.1111111111111111,
                                                        "#46039f"
                                                    ],
                                                    [
                                                        0.2222222222222222,
                                                        "#7201a8"
                                                    ],
                                                    [
                                                        0.3333333333333333,
                                                        "#9c179e"
                                                    ],
                                                    [
                                                        0.4444444444444444,
                                                        "#bd3786"
                                                    ],
                                                    [
                                                        0.5555555555555556,
                                                        "#d8576b"
                                                    ],
                                                    [
                                                        0.6666666666666666,
                                                        "#ed7953"
                                                    ],
                                                    [
                                                        0.7777777777777778,
                                                        "#fb9f3a"
                                                    ],
                                                    [
                                                        0.8888888888888888,
                                                        "#fdca26"
                                                    ],
                                                    [
                                                        1,
                                                        "#f0f921"
                                                    ]
                                                ],
                                                "type": "contour"
                                            }
                                        ],
                                        "contourcarpet": [
                                            {
                                                "colorbar": {
                                                    "outlinewidth": 0,
                                                    "ticks": ""
                                                },
                                                "type": "contourcarpet"
                                            }
                                        ],
                                        "heatmap": [
                                            {
                                                "colorbar": {
                                                    "outlinewidth": 0,
                                                    "ticks": ""
                                                },
                                                "colorscale": [
                                                    [
                                                        0,
                                                        "#0d0887"
                                                    ],
                                                    [
                                                        0.1111111111111111,
                                                        "#46039f"
                                                    ],
                                                    [
                                                        0.2222222222222222,
                                                        "#7201a8"
                                                    ],
                                                    [
                                                        0.3333333333333333,
                                                        "#9c179e"
                                                    ],
                                                    [
                                                        0.4444444444444444,
                                                        "#bd3786"
                                                    ],
                                                    [
                                                        0.5555555555555556,
                                                        "#d8576b"
                                                    ],
                                                    [
                                                        0.6666666666666666,
                                                        "#ed7953"
                                                    ],
                                                    [
                                                        0.7777777777777778,
                                                        "#fb9f3a"
                                                    ],
                                                    [
                                                        0.8888888888888888,
                                                        "#fdca26"
                                                    ],
                                                    [
                                                        1,
                                                        "#f0f921"
                                                    ]
                                                ],
                                                "type": "heatmap"
                                            }
                                        ],
                                        "histogram": [
                                            {
                                                "marker": {
                                                    "pattern": {
                                                        "fillmode": "overlay",
                                                        "size": 10,
                                                        "solidity": 0.2
                                                    }
                                                },
                                                "type": "histogram"
                                            }
                                        ],
                                        "histogram2d": [
                                            {
                                                "colorbar": {
                                                    "outlinewidth": 0,
                                                    "ticks": ""
                                                },
                                                "colorscale": [
                                                    [
                                                        0,
                                                        "#0d0887"
                                                    ],
                                                    [
                                                        0.1111111111111111,
                                                        "#46039f"
                                                    ],
                                                    [
                                                        0.2222222222222222,
                                                        "#7201a8"
                                                    ],
                                                    [
                                                        0.3333333333333333,
                                                        "#9c179e"
                                                    ],
                                                    [
                                                        0.4444444444444444,
                                                        "#bd3786"
                                                    ],
                                                    [
                                                        0.5555555555555556,
                                                        "#d8576b"
                                                    ],
                                                    [
                                                        0.6666666666666666,
                                                        "#ed7953"
                                                    ],
                                                    [
                                                        0.7777777777777778,
                                                        "#fb9f3a"
                                                    ],
                                                    [
                                                        0.8888888888888888,
                                                        "#fdca26"
                                                    ],
                                                    [
                                                        1,
                                                        "#f0f921"
                                                    ]
                                                ],
                                                "type": "histogram2d"
                                            }
                                        ],
                                        "histogram2dcontour": [
                                            {
                                                "colorbar": {
                                                    "outlinewidth": 0,
                                                    "ticks": ""
                                                },
                                                "colorscale": [
                                                    [
                                                        0,
                                                        "#0d0887"
                                                    ],
                                                    [
                                                        0.1111111111111111,
                                                        "#46039f"
                                                    ],
                                                    [
                                                        0.2222222222222222,
                                                        "#7201a8"
                                                    ],
                                                    [
                                                        0.3333333333333333,
                                                        "#9c179e"
                                                    ],
                                                    [
                                                        0.4444444444444444,
                                                        "#bd3786"
                                                    ],
                                                    [
                                                        0.5555555555555556,
                                                        "#d8576b"
                                                    ],
                                                    [
                                                        0.6666666666666666,
                                                        "#ed7953"
                                                    ],
                                                    [
                                                        0.7777777777777778,
                                                        "#fb9f3a"
                                                    ],
                                                    [
                                                        0.8888888888888888,
                                                        "#fdca26"
                                                    ],
                                                    [
                                                        1,
                                                        "#f0f921"
                                                    ]
                                                ],
                                                "type": "histogram2dcontour"
                                            }
                                        ],
                                        "mesh3d": [
                                            {
                                                "colorbar": {
                                                    "outlinewidth": 0,
                                                    "ticks": ""
                                                },
                                                "type": "mesh3d"
                                            }
                                        ],
                                        "parcoords": [
                                            {
                                                "line": {
                                                    "colorbar": {
                                                        "outlinewidth": 0,
                                                        "ticks": ""
                                                    }
                                                },
                                                "type": "parcoords"
                                            }
                                        ],
                                        "pie": [
                                            {
                                                "automargin": true,
                                                "type": "pie"
                                            }
                                        ],
                                        "scatter": [
                                            {
                                                "fillpattern": {
                                                    "fillmode": "overlay",
                                                    "size": 10,
                                                    "solidity": 0.2
                                                },
                                                "type": "scatter"
                                            }
                                        ],
                                        "scatter3d": [
                                            {
                                                "line": {
                                                    "colorbar": {
                                                        "outlinewidth": 0,
                                                        "ticks": ""
                                                    }
                                                },
                                                "marker": {
                                                    "colorbar": {
                                                        "outlinewidth": 0,
                                                        "ticks": ""
                                                    }
                                                },
                                                "type": "scatter3d"
                                            }
                                        ],
                                        "scattercarpet": [
                                            {
                                                "marker": {
                                                    "colorbar": {
                                                        "outlinewidth": 0,
                                                        "ticks": ""
                                                    }
                                                },
                                                "type": "scattercarpet"
                                            }
                                        ],
                                        "scattergeo": [
                                            {
                                                "marker": {
                                                    "colorbar": {
                                                        "outlinewidth": 0,
                                                        "ticks": ""
                                                    }
                                                },
                                                "type": "scattergeo"
                                            }
                                        ],
                                        "scattergl": [
                                            {
                                                "marker": {
                                                    "colorbar": {
                                                        "outlinewidth": 0,
                                                        "ticks": ""
                                                    }
                                                },
                                                "type": "scattergl"
                                            }
                                        ],
                                        "scattermap": [
                                            {
                                                "marker": {
                                                    "colorbar": {
                                                        "outlinewidth": 0,
                                                        "ticks": ""
                                                    }
                                                },
                                                "type": "scattermap"
                                            }
                                        ],
                                        "scattermapbox": [
                                            {
                                                "marker": {
                                                    "colorbar": {
                                                        "outlinewidth": 0,
                                                        "ticks": ""
                                                    }
                                                },
                                                "type": "scattermapbox"
                                            }
                                        ],
                                        "scatterpolar": [
                                            {
                                                "marker": {
                                                    "colorbar": {
                                                        "outlinewidth": 0,
                                                        "ticks": ""
                                                    }
                                                },
                                                "type": "scatterpolar"
                                            }
                                        ],
                                        "scatterpolargl": [
                                            {
                                                "marker": {
                                                    "colorbar": {
                                                        "outlinewidth": 0,
                                                        "ticks": ""
                                                    }
                                                },
                                                "type": "scatterpolargl"
                                            }
                                        ],
                                        "scatterternary": [
                                            {
                                                "marker": {
                                                    "colorbar": {
                                                        "outlinewidth": 0,
                                                        "ticks": ""
                                                    }
                                                },
                                                "type": "scatterternary"
                                            }
                                        ],
                                        "surface": [
                                            {
                                                "colorbar": {
                                                    "outlinewidth": 0,
                                                    "ticks": ""
                                                },
                                                "colorscale": [
                                                    [
                                                        0,
                                                        "#0d0887"
                                                    ],
                                                    [
                                                        0.1111111111111111,
                                                        "#46039f"
                                                    ],
                                                    [
                                                        0.2222222222222222,
                                                        "#7201a8"
                                                    ],
                                                    [
                                                        0.3333333333333333,
                                                        "#9c179e"
                                                    ],
                                                    [
                                                        0.4444444444444444,
                                                        "#bd3786"
                                                    ],
                                                    [
                                                        0.5555555555555556,
                                                        "#d8576b"
                                                    ],
                                                    [
                                                        0.6666666666666666,
                                                        "#ed7953"
                                                    ],
                                                    [
                                                        0.7777777777777778,
                                                        "#fb9f3a"
                                                    ],
                                                    [
                                                        0.8888888888888888,
                                                        "#fdca26"
                                                    ],
                                                    [
                                                        1,
                                                        "#f0f921"
                                                    ]
                                                ],
                                                "type": "surface"
                                            }
                                        ],
                                        "table": [
                                            {
                                                "cells": {
                                                    "fill": {
                                                        "color": "#EBF0F8"
                                                    },
                                                    "line": {
                                                        "color": "white"
                                                    }
                                                },
                                                "header": {
                                                    "fill": {
                                                        "color": "#C8D4E3"
                                                    },
                                                    "line": {
                                                        "color": "white"
                                                    }
                                                },
                                                "type": "table"
                                            }
                                        ]
                                    },
                                    "layout": {
                                        "annotationdefaults": {
                                            "arrowcolor": "#2a3f5f",
                                            "arrowhead": 0,
                                            "arrowwidth": 1
                                        },
                                        "autotypenumbers": "strict",
                                        "coloraxis": {
                                            "colorbar": {
                                                "outlinewidth": 0,
                                                "ticks": ""
                                            }
                                        },
                                        "colorscale": {
                                            "diverging": [
                                                [
                                                    0,
                                                    "#8e0152"
                                                ],
                                                [
                                                    0.1,
                                                    "#c51b7d"
                                                ],
                                                [
                                                    0.2,
                                                    "#de77ae"
                                                ],
                                                [
                                                    0.3,
                                                    "#f1b6da"
                                                ],
                                                [
                                                    0.4,
                                                    "#fde0ef"
                                                ],
                                                [
                                                    0.5,
                                                    "#f7f7f7"
                                                ],
                                                [
                                                    0.6,
                                                    "#e6f5d0"
                                                ],
                                                [
                                                    0.7,
                                                    "#b8e186"
                                                ],
                                                [
                                                    0.8,
                                                    "#7fbc41"
                                                ],
                                                [
                                                    0.9,
                                                    "#4d9221"
                                                ],
                                                [
                                                    1,
                                                    "#276419"
                                                ]
                                            ],
                                            "sequential": [
                                                [
                                                    0,
                                                    "#0d0887"
                                                ],
                                                [
                                                    0.1111111111111111,
                                                    "#46039f"
                                                ],
                                                [
                                                    0.2222222222222222,
                                                    "#7201a8"
                                                ],
                                                [
                                                    0.3333333333333333,
                                                    "#9c179e"
                                                ],
                                                [
                                                    0.4444444444444444,
                                                    "#bd3786"
                                                ],
                                                [
                                                    0.5555555555555556,
                                                    "#d8576b"
                                                ],
                                                [
                                                    0.6666666666666666,
                                                    "#ed7953"
                                                ],
                                                [
                                                    0.7777777777777778,
                                                    "#fb9f3a"
                                                ],
                                                [
                                                    0.8888888888888888,
                                                    "#fdca26"
                                                ],
                                                [
                                                    1,
                                                    "#f0f921"
                                                ]
                                            ],
                                            "sequentialminus": [
                                                [
                                                    0,
                                                    "#0d0887"
                                                ],
                                                [
                                                    0.1111111111111111,
                                                    "#46039f"
                                                ],
                                                [
                                                    0.2222222222222222,
                                                    "#7201a8"
                                                ],
                                                [
                                                    0.3333333333333333,
                                                    "#9c179e"
                                                ],
                                                [
                                                    0.4444444444444444,
                                                    "#bd3786"
                                                ],
                                                [
                                                    0.5555555555555556,
                                                    "#d8576b"
                                                ],
                                                [
                                                    0.6666666666666666,
                                                    "#ed7953"
                                                ],
                                                [
                                                    0.7777777777777778,
                                                    "#fb9f3a"
                                                ],
                                                [
                                                    0.8888888888888888,
                                                    "#fdca26"
                                                ],
                                                [
                                                    1,
                                                    "#f0f921"
                                                ]
                                            ]
                                        },
                                        "colorway": [
                                            "#636efa",
                                            "#EF553B",
                                            "#00cc96",
                                            "#ab63fa",
                                            "#FFA15A",
                                            "#19d3f3",
                                            "#FF6692",
                                            "#B6E880",
                                            "#FF97FF",
                                            "#FECB52"
                                        ],
                                        "font": {
                                            "color": "#2a3f5f"
                                        },
                                        "geo": {
                                            "bgcolor": "white",
                                            "lakecolor": "white",
                                            "landcolor": "#E5ECF6",
                                            "showlakes": true,
                                            "showland": true,
                                            "subunitcolor": "white"
                                        },
                                        "hoverlabel": {
                                            "align": "left"
                                        },
                                        "hovermode": "closest",
                                        "mapbox": {
                                            "style": "light"
                                        },
                                        "paper_bgcolor": "white",
                                        "plot_bgcolor": "#E5ECF6",
                                        "polar": {
                                            "angularaxis": {
                                                "gridcolor": "white",
                                                "linecolor": "white",
                                                "ticks": ""
                                            },
                                            "bgcolor": "#E5ECF6",
                                            "radialaxis": {
                                                "gridcolor": "white",
                                                "linecolor": "white",
                                                "ticks": ""
                                            }
                                        },
                                        "scene": {
                                            "xaxis": {
                                                "backgroundcolor": "#E5ECF6",
                                                "gridcolor": "white",
                                                "gridwidth": 2,
                                                "linecolor": "white",
                                                "showbackground": true,
                                                "ticks": "",
                                                "zerolinecolor": "white"
                                            },
                                            "yaxis": {
                                                "backgroundcolor": "#E5ECF6",
                                                "gridcolor": "white",
                                                "gridwidth": 2,
                                                "linecolor": "white",
                                                "showbackground": true,
                                                "ticks": "",
                                                "zerolinecolor": "white"
                                            },
                                            "zaxis": {
                                                "backgroundcolor": "#E5ECF6",
                                                "gridcolor": "white",
                                                "gridwidth": 2,
                                                "linecolor": "white",
                                                "showbackground": true,
                                                "ticks": "",
                                                "zerolinecolor": "white"
                                            }
                                        },
                                        "shapedefaults": {
                                            "line": {
                                                "color": "#2a3f5f"
                                            }
                                        },
                                        "ternary": {
                                            "aaxis": {
                                                "gridcolor": "white",
                                                "linecolor": "white",
                                                "ticks": ""
                                            },
                                            "baxis": {
                                                "gridcolor": "white",
                                                "linecolor": "white",
                                                "ticks": ""
                                            },
                                            "bgcolor": "#E5ECF6",
                                            "caxis": {
                                                "gridcolor": "white",
                                                "linecolor": "white",
                                                "ticks": ""
                                            }
                                        },
                                        "title": {
                                            "x": 0.05
                                        },
                                        "xaxis": {
                                            "automargin": true,
                                            "gridcolor": "white",
                                            "linecolor": "white",
                                            "ticks": "",
                                            "title": {
                                                "standoff": 15
                                            },
                                            "zerolinecolor": "white",
                                            "zerolinewidth": 2
                                        },
                                        "yaxis": {
                                            "automargin": true,
                                            "gridcolor": "white",
                                            "linecolor": "white",
                                            "ticks": "",
                                            "title": {
                                                "standoff": 15
                                            },
                                            "zerolinecolor": "white",
                                            "zerolinewidth": 2
                                        }
                                    }
                                },
                                "title": {
                                    "text": "🏢 WORKING BigQuery Analytics Dashboard"
                                },
                                "xaxis": {
                                    "anchor": "y",
                                    "domain": [
                                        0,
                                        0.45
                                    ]
                                },
                                "xaxis2": {
                                    "anchor": "y2",
                                    "domain": [
                                        0.55,
                                        1
                                    ]
                                },
                                "xaxis3": {
                                    "anchor": "y3",
                                    "domain": [
                                        0,
                                        0.45
                                    ]
                                },
                                "xaxis4": {
                                    "anchor": "y4",
                                    "domain": [
                                        0.55,
                                        1
                                    ]
                                },
                                "yaxis": {
                                    "anchor": "x",
                                    "domain": [
                                        0.625,
                                        1
                                    ]
                                },
                                "yaxis2": {
                                    "anchor": "x2",
                                    "domain": [
                                        0.625,
                                        1
                                    ]
                                },
                                "yaxis3": {
                                    "anchor": "x3",
                                    "domain": [
                                        0,
                                        0.375
                                    ]
                                },
                                "yaxis4": {
                                    "anchor": "x4",
                                    "domain": [
                                        0,
                                        0.375
                                    ]
                                }
                            }
                        }
                    },
                    "metadata": {},
                    "output_type": "display_data"
                },
                {
                    "name": "stdout",
                    "output_type": "stream",
                    "text": [
                        "\n",
                        "🎉 DASHBOARD CREATED SUCCESSFULLY!\n",
                        "✅ NO ERRORS - EVERYTHING WORKING!\n"
                    ]
                }
            ],
            "source": [
                "# 📊 Create Professional Dashboard\n",
                "def create_working_dashboard(data):\n",
                "    \"\"\"Create dashboard from working data\"\"\"\n",
                "    \n",
                "    fig = make_subplots(\n",
                "        rows=2, cols=2,\n",
                "        subplot_titles=('📈 Average Scores by Category', '📊 Post Counts', '💬 Comments vs Posts', '🎯 Performance Overview')\n",
                "    )\n",
                "    \n",
                "    # Bar chart of scores\n",
                "    fig.add_trace(\n",
                "        go.Bar(x=data['category'], y=data['average_score'], name='Avg Score', marker_color='#1f77b4'),\n",
                "        row=1, col=1\n",
                "    )\n",
                "    \n",
                "    # Post counts\n",
                "    fig.add_trace(\n",
                "        go.Bar(x=data['category'], y=data['total_posts'], name='Total Posts', marker_color='#ff7f0e'),\n",
                "        row=1, col=2\n",
                "    )\n",
                "    \n",
                "    # Scatter plot\n",
                "    fig.add_trace(\n",
                "        go.Scatter(x=data['total_posts'], y=data['average_comments'], \n",
                "                  mode='markers+text', text=data['category'], name='Comments vs Posts',\n",
                "                  marker=dict(size=12, color='#2ca02c')),\n",
                "        row=2, col=1\n",
                "    )\n",
                "    \n",
                "    # Performance overview\n",
                "    fig.add_trace(\n",
                "        go.Bar(x=data['category'], y=data['average_score'] * data['total_posts'] / 100, \n",
                "               name='Performance Index', marker_color='#d62728'),\n",
                "        row=2, col=2\n",
                "    )\n",
                "    \n",
                "    fig.update_layout(\n",
                "        title='🏢 WORKING BigQuery Analytics Dashboard',\n",
                "        height=800,\n",
                "        showlegend=False\n",
                "    )\n",
                "    \n",
                "    return fig\n",
                "\n",
                "# Create and show dashboard\n",
                "dashboard = create_working_dashboard(working_data)\n",
                "dashboard.show()\n",
                "\n",
                "print(\"\\n🎉 DASHBOARD CREATED SUCCESSFULLY!\")\n",
                "print(\"✅ NO ERRORS - EVERYTHING WORKING!\")"
            ]
        }
    ],
    "metadata": {
        "kernelspec": {
            "display_name": "Python 3",
            "language": "python",
            "name": "python3"
        },
        "language_info": {
            "codemirror_mode": {
                "name": "ipython",
                "version": 3
            },
            "file_extension": ".py",
            "mimetype": "text/x-python",
            "name": "python",
            "nbconvert_exporter": "python",
            "pygments_lexer": "ipython3",
            "version": "3.12.6"
        }
    },
    "nbformat": 4,
    "nbformat_minor": 4
}
